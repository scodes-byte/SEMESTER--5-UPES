{
 "cells": [
  {
   "cell_type": "markdown",
   "metadata": {},
   "source": [
    "___\n",
    "\n",
    "<a href='http://www.pieriandata.com'> <img src='../../Pierian_Data_Logo.png' /></a>\n",
    "___\n",
    "# Ecommerce Purchases Exercise\n",
    "\n",
    "In this Exercise you will be given some Fake Data about some purchases done through Amazon! Just go ahead and follow the directions and try your best to answer the questions and complete the tasks. Feel free to reference the solutions. Most of the tasks can be solved in different ways. For the most part, the questions get progressively harder.\n",
    "\n",
    "Please excuse anything that doesn't make \"Real-World\" sense in the dataframe, all the data is fake and made-up.\n",
    "\n",
    "Also note that all of these questions can be answered with one line of code.\n",
    "____\n",
    "** Import pandas and read in the Ecommerce Purchases csv file and set it to a DataFrame called ecom. **"
   ]
  },
  {
   "cell_type": "code",
   "execution_count": 2,
   "metadata": {
    "collapsed": true
   },
   "outputs": [],
   "source": [
    "import pandas as pd"
   ]
  },
  {
   "cell_type": "code",
   "execution_count": 4,
   "metadata": {
    "collapsed": true
   },
   "outputs": [],
   "source": [
    "ecom = pd.read_csv('Ecommerce Purchases.csv')"
   ]
  },
  {
   "cell_type": "markdown",
   "metadata": {},
   "source": [
    "**Check the head of the DataFrame.**"
   ]
  },
  {
   "cell_type": "code",
   "execution_count": 5,
   "metadata": {
    "collapsed": false
   },
   "outputs": [
    {
     "name": "stdout",
     "output_type": "stream",
     "text": [
      "Head of DataFrame:\n",
      "                                             Address    Lot AM or PM  \\\n",
      "0  16629 Pace Camp Apt. 448\\nAlexisborough, NE 77...  46 in       PM   \n",
      "1  9374 Jasmine Spurs Suite 508\\nSouth John, TN 8...  28 rn       PM   \n",
      "2                   Unit 0065 Box 5052\\nDPO AP 27450  94 vE       PM   \n",
      "3              7780 Julia Fords\\nNew Stacy, WA 45798  36 vm       PM   \n",
      "4  23012 Munoz Drive Suite 337\\nNew Cynthia, TX 5...  20 IE       AM   \n",
      "\n",
      "                                        Browser Info  \\\n",
      "0  Opera/9.56.(X11; Linux x86_64; sl-SI) Presto/2...   \n",
      "1  Opera/8.93.(Windows 98; Win 9x 4.90; en-US) Pr...   \n",
      "2  Mozilla/5.0 (compatible; MSIE 9.0; Windows NT ...   \n",
      "3  Mozilla/5.0 (Macintosh; Intel Mac OS X 10_8_0 ...   \n",
      "4  Opera/9.58.(X11; Linux x86_64; it-IT) Presto/2...   \n",
      "\n",
      "                           Company       Credit Card CC Exp Date  \\\n",
      "0                  Martinez-Herman  6011929061123406       02/20   \n",
      "1  Fletcher, Richards and Whitaker  3337758169645356       11/18   \n",
      "2       Simpson, Williams and Pham      675957666125       08/19   \n",
      "3  Williams, Marshall and Buchanan  6011578504430710       02/24   \n",
      "4        Brown, Watson and Andrews  6011456623207998       10/25   \n",
      "\n",
      "   CC Security Code                  CC Provider  \\\n",
      "0               900                 JCB 16 digit   \n",
      "1               561                   Mastercard   \n",
      "2               699                 JCB 16 digit   \n",
      "3               384                     Discover   \n",
      "4               678  Diners Club / Carte Blanche   \n",
      "\n",
      "                            Email                                     Job  \\\n",
      "0               pdunlap@yahoo.com  Scientist, product/process development   \n",
      "1              anthony41@reed.com                       Drilling engineer   \n",
      "2  amymiller@morales-harrison.com                Customer service manager   \n",
      "3     brent16@olson-robinson.info                       Drilling engineer   \n",
      "4     christopherwright@gmail.com                             Fine artist   \n",
      "\n",
      "        IP Address Language  Purchase Price  \n",
      "0  149.146.147.205       el           98.14  \n",
      "1     15.160.41.51       fr           70.73  \n",
      "2   132.207.160.22       de            0.95  \n",
      "3     30.250.74.19       es           78.04  \n",
      "4     24.140.33.94       es           77.82  \n",
      "\n",
      "==================================================\n",
      "\n"
     ]
    }
   ],
   "source": [
    "print(\"Head of DataFrame:\")\n",
    "print(ecom.head())\n",
    "print(\"\\n\" + \"=\"*50 + \"\\n\")"
   ]
  },
  {
   "cell_type": "markdown",
   "metadata": {},
   "source": [
    "** How many rows and columns are there? **"
   ]
  },
  {
   "cell_type": "code",
   "execution_count": 6,
   "metadata": {
    "collapsed": false
   },
   "outputs": [
    {
     "name": "stdout",
     "output_type": "stream",
     "text": [
      "DataFrame Info:\n",
      "<class 'pandas.core.frame.DataFrame'>\n",
      "RangeIndex: 10000 entries, 0 to 9999\n",
      "Data columns (total 14 columns):\n",
      " #   Column            Non-Null Count  Dtype  \n",
      "---  ------            --------------  -----  \n",
      " 0   Address           10000 non-null  object \n",
      " 1   Lot               10000 non-null  object \n",
      " 2   AM or PM          10000 non-null  object \n",
      " 3   Browser Info      10000 non-null  object \n",
      " 4   Company           10000 non-null  object \n",
      " 5   Credit Card       10000 non-null  int64  \n",
      " 6   CC Exp Date       10000 non-null  object \n",
      " 7   CC Security Code  10000 non-null  int64  \n",
      " 8   CC Provider       10000 non-null  object \n",
      " 9   Email             10000 non-null  object \n",
      " 10  Job               10000 non-null  object \n",
      " 11  IP Address        10000 non-null  object \n",
      " 12  Language          10000 non-null  object \n",
      " 13  Purchase Price    10000 non-null  float64\n",
      "dtypes: float64(1), int64(2), object(11)\n",
      "memory usage: 1.1+ MB\n",
      "\n",
      "Shape: 10000 rows and 14 columns\n",
      "\n",
      "==================================================\n",
      "\n"
     ]
    }
   ],
   "source": [
    "print(\"DataFrame Info:\")\n",
    "ecom.info()\n",
    "print(f\"\\nShape: {ecom.shape[0]} rows and {ecom.shape[1]} columns\")\n",
    "print(\"\\n\" + \"=\"*50 + \"\\n\")"
   ]
  },
  {
   "cell_type": "markdown",
   "metadata": {},
   "source": [
    "** What is the average Purchase Price? **"
   ]
  },
  {
   "cell_type": "code",
   "execution_count": 7,
   "metadata": {
    "collapsed": false
   },
   "outputs": [
    {
     "name": "stdout",
     "output_type": "stream",
     "text": [
      "Average Purchase Price: $50.35\n",
      "\n",
      "==================================================\n",
      "\n"
     ]
    }
   ],
   "source": [
    "avg_price = ecom['Purchase Price'].mean()\n",
    "print(f\"Average Purchase Price: ${avg_price:.2f}\")\n",
    "print(\"\\n\" + \"=\"*50 + \"\\n\")"
   ]
  },
  {
   "cell_type": "markdown",
   "metadata": {},
   "source": [
    "** What were the highest and lowest purchase prices? **"
   ]
  },
  {
   "cell_type": "code",
   "execution_count": 10,
   "metadata": {
    "collapsed": false
   },
   "outputs": [],
   "source": [
    "max_price = ecom['Purchase Price'].max()\n",
    "min_price = ecom['Purchase Price'].min()"
   ]
  },
  {
   "cell_type": "code",
   "execution_count": 11,
   "metadata": {
    "collapsed": false
   },
   "outputs": [
    {
     "name": "stdout",
     "output_type": "stream",
     "text": [
      "Highest Purchase Price: $99.99\n",
      "Lowest Purchase Price: $0.00\n",
      "\n",
      "==================================================\n",
      "\n"
     ]
    }
   ],
   "source": [
    "print(f\"Highest Purchase Price: ${max_price:.2f}\")\n",
    "print(f\"Lowest Purchase Price: ${min_price:.2f}\")\n",
    "print(\"\\n\" + \"=\"*50 + \"\\n\")"
   ]
  },
  {
   "cell_type": "markdown",
   "metadata": {},
   "source": [
    "** How many people have English 'en' as their Language of choice on the website? **"
   ]
  },
  {
   "cell_type": "code",
   "execution_count": 9,
   "metadata": {
    "collapsed": false
   },
   "outputs": [
    {
     "name": "stdout",
     "output_type": "stream",
     "text": [
      "Number of people with English ('en') as language: 1098\n",
      "\n",
      "==================================================\n",
      "\n"
     ]
    }
   ],
   "source": [
    "english_users = len(ecom[ecom['Language'] == 'en'])\n",
    "print(f\"Number of people with English ('en') as language: {english_users}\")\n",
    "print(\"\\n\" + \"=\"*50 + \"\\n\")"
   ]
  },
  {
   "cell_type": "markdown",
   "metadata": {},
   "source": [
    "** How many people have the job title of \"Lawyer\" ? **\n"
   ]
  },
  {
   "cell_type": "code",
   "execution_count": 12,
   "metadata": {
    "collapsed": false
   },
   "outputs": [
    {
     "name": "stdout",
     "output_type": "stream",
     "text": [
      "Number of people with job title 'Lawyer': 30\n",
      "\n",
      "==================================================\n",
      "\n"
     ]
    }
   ],
   "source": [
    "lawyers = len(ecom[ecom['Job'] == 'Lawyer'])\n",
    "print(f\"Number of people with job title 'Lawyer': {lawyers}\")\n",
    "print(\"\\n\" + \"=\"*50 + \"\\n\")"
   ]
  },
  {
   "cell_type": "markdown",
   "metadata": {},
   "source": [
    "** How many people made the purchase during the AM and how many people made the purchase during PM ? **\n",
    "\n",
    "**(Hint: Check out [value_counts()](http://pandas.pydata.org/pandas-docs/stable/generated/pandas.Series.value_counts.html) ) **"
   ]
  },
  {
   "cell_type": "code",
   "execution_count": 13,
   "metadata": {
    "collapsed": false
   },
   "outputs": [
    {
     "name": "stdout",
     "output_type": "stream",
     "text": [
      "Purchases by time:\n",
      "PM: 5068\n",
      "AM: 4932\n",
      "\n",
      "==================================================\n",
      "\n"
     ]
    }
   ],
   "source": [
    "am_pm_counts = ecom['AM or PM'].value_counts()\n",
    "print(\"Purchases by time:\")\n",
    "print(f\"PM: {am_pm_counts['PM']}\")\n",
    "print(f\"AM: {am_pm_counts['AM']}\")\n",
    "print(\"\\n\" + \"=\"*50 + \"\\n\")"
   ]
  },
  {
   "cell_type": "markdown",
   "metadata": {},
   "source": [
    "** What are the 5 most common Job Titles? **"
   ]
  },
  {
   "cell_type": "code",
   "execution_count": 14,
   "metadata": {
    "collapsed": false
   },
   "outputs": [
    {
     "name": "stdout",
     "output_type": "stream",
     "text": [
      "Top 5 most common job titles:\n",
      "Interior and spatial designer: 31\n",
      "Lawyer: 30\n",
      "Social researcher: 28\n",
      "Research officer, political party: 27\n",
      "Designer, jewellery: 27\n",
      "\n",
      "==================================================\n",
      "\n"
     ]
    }
   ],
   "source": [
    "top_jobs = ecom['Job'].value_counts().head(5)\n",
    "print(\"Top 5 most common job titles:\")\n",
    "for job, count in top_jobs.items():\n",
    "    print(f\"{job}: {count}\")\n",
    "print(\"\\n\" + \"=\"*50 + \"\\n\")"
   ]
  },
  {
   "cell_type": "markdown",
   "metadata": {},
   "source": [
    "** Someone made a purchase that came from Lot: \"90 WT\" , what was the Purchase Price for this transaction? **"
   ]
  },
  {
   "cell_type": "code",
   "execution_count": 15,
   "metadata": {
    "collapsed": false
   },
   "outputs": [
    {
     "name": "stdout",
     "output_type": "stream",
     "text": [
      "Purchase price for Lot '90 WT': $75.1\n",
      "\n",
      "==================================================\n",
      "\n"
     ]
    }
   ],
   "source": [
    "lot_90wt_price = ecom[ecom['Lot'] == '90 WT']['Purchase Price'].iloc[0]\n",
    "print(f\"Purchase price for Lot '90 WT': ${lot_90wt_price}\")\n",
    "print(\"\\n\" + \"=\"*50 + \"\\n\")"
   ]
  },
  {
   "cell_type": "markdown",
   "metadata": {},
   "source": [
    "** What is the email of the person with the following Credit Card Number: 4926535242672853 **"
   ]
  },
  {
   "cell_type": "code",
   "execution_count": 16,
   "metadata": {
    "collapsed": false
   },
   "outputs": [
    {
     "name": "stdout",
     "output_type": "stream",
     "text": [
      "Email for credit card 4926535242672853: bondellen@williams-garza.com\n",
      "\n",
      "==================================================\n",
      "\n"
     ]
    }
   ],
   "source": [
    "email_for_cc = ecom[ecom['Credit Card'] == 4926535242672853]['Email'].iloc[0]\n",
    "print(f\"Email for credit card 4926535242672853: {email_for_cc}\")\n",
    "print(\"\\n\" + \"=\"*50 + \"\\n\")"
   ]
  },
  {
   "cell_type": "markdown",
   "metadata": {},
   "source": [
    "** How many people have American Express as their Credit Card Provider *and* made a purchase above $95 ?**"
   ]
  },
  {
   "cell_type": "code",
   "execution_count": 17,
   "metadata": {
    "collapsed": false
   },
   "outputs": [
    {
     "name": "stdout",
     "output_type": "stream",
     "text": [
      "People with American Express and purchase > $95: 39\n",
      "\n",
      "==================================================\n",
      "\n"
     ]
    }
   ],
   "source": [
    "amex_above_95 = len(ecom[(ecom['CC Provider'] == 'American Express') & (ecom['Purchase Price'] > 95)])\n",
    "print(f\"People with American Express and purchase > $95: {amex_above_95}\")\n",
    "print(\"\\n\" + \"=\"*50 + \"\\n\")\n"
   ]
  },
  {
   "cell_type": "markdown",
   "metadata": {},
   "source": [
    "** Hard: How many people have a credit card that expires in 2025? **"
   ]
  },
  {
   "cell_type": "code",
   "execution_count": 18,
   "metadata": {
    "collapsed": false
   },
   "outputs": [
    {
     "name": "stdout",
     "output_type": "stream",
     "text": [
      "People with credit cards expiring in 2025: 1033\n",
      "\n",
      "==================================================\n",
      "\n"
     ]
    }
   ],
   "source": [
    "expires_2025 = len(ecom[ecom['CC Exp Date'].str.contains('/25')])\n",
    "print(f\"People with credit cards expiring in 2025: {expires_2025}\")\n",
    "print(\"\\n\" + \"=\"*50 + \"\\n\")"
   ]
  },
  {
   "cell_type": "markdown",
   "metadata": {},
   "source": [
    "** Hard: What are the top 5 most popular email providers/hosts (e.g. gmail.com, yahoo.com, etc...) **"
   ]
  },
  {
   "cell_type": "code",
   "execution_count": 19,
   "metadata": {
    "collapsed": false
   },
   "outputs": [
    {
     "name": "stdout",
     "output_type": "stream",
     "text": [
      "Top 5 most popular email providers:\n",
      "hotmail.com: 1638\n",
      "yahoo.com: 1616\n",
      "gmail.com: 1605\n",
      "smith.com: 42\n",
      "williams.com: 37\n"
     ]
    }
   ],
   "source": [
    "ecom['Email Domain'] = ecom['Email'].str.split('@').str[1]\n",
    "top_email_providers = ecom['Email Domain'].value_counts().head(5)\n",
    "print(\"Top 5 most popular email providers:\")\n",
    "for provider, count in top_email_providers.items():\n",
    "    print(f\"{provider}: {count}\")"
   ]
  },
  {
   "cell_type": "markdown",
   "metadata": {},
   "source": [
    "# Great Job!"
   ]
  }
 ],
 "metadata": {
  "kernelspec": {
   "display_name": "Python 3",
   "language": "python",
   "name": "python3"
  },
  "language_info": {
   "codemirror_mode": {
    "name": "ipython",
    "version": 3
   },
   "file_extension": ".py",
   "mimetype": "text/x-python",
   "name": "python",
   "nbconvert_exporter": "python",
   "pygments_lexer": "ipython3",
   "version": "3.13.2"
  }
 },
 "nbformat": 4,
 "nbformat_minor": 0
}
